{
 "cells": [
  {
   "cell_type": "code",
   "execution_count": 4,
   "metadata": {},
   "outputs": [
    {
     "name": "stdout",
     "output_type": "stream",
     "text": [
      "最小值: 1042\n",
      "最大值: 4840\n",
      "中位数: 1413.0\n",
      "平均数: 2401.00\n"
     ]
    }
   ],
   "source": [
    "import pandas as pd\n",
    "\n",
    "# 读取处理后的 whitelist 文件\n",
    "# 假设 output.txt 是用制表符分隔的文件\n",
    "df = pd.read_csv('/mnt/hpc/home/xuxinran/microC/date/date_1107/End-3x-1_barcode_read.txt', sep='\\t', header=None, names=['barcode', 'barcode_list', 'count', 'reads', 'total_reads'])\n",
    "\n",
    "# 提取总 reads 列\n",
    "total_reads = df['total_reads']\n",
    "\n",
    "# 计算统计信息\n",
    "min_reads = total_reads.min()\n",
    "max_reads = total_reads.max()\n",
    "median_reads = total_reads.median()\n",
    "mean_reads = total_reads.mean()\n",
    "\n",
    "# 打印结果\n",
    "print(f\"最小值: {min_reads}\")\n",
    "print(f\"最大值: {max_reads}\")\n",
    "print(f\"中位数: {median_reads}\")\n",
    "print(f\"平均数: {mean_reads:.2f}\")  # 格式化为两位小数\n"
   ]
  }
 ],
 "metadata": {
  "kernelspec": {
   "display_name": "micro-c",
   "language": "python",
   "name": "python3"
  },
  "language_info": {
   "codemirror_mode": {
    "name": "ipython",
    "version": 3
   },
   "file_extension": ".py",
   "mimetype": "text/x-python",
   "name": "python",
   "nbconvert_exporter": "python",
   "pygments_lexer": "ipython3",
   "version": "3.10.8"
  }
 },
 "nbformat": 4,
 "nbformat_minor": 2
}
