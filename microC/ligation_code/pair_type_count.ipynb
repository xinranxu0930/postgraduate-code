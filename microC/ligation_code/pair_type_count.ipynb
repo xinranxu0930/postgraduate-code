{
 "cells": [
  {
   "cell_type": "code",
   "execution_count": 1,
   "metadata": {},
   "outputs": [],
   "source": [
    "import pysam\n",
    "import pandas as pd\n",
    "import pickle"
   ]
  },
  {
   "cell_type": "code",
   "execution_count": 2,
   "metadata": {},
   "outputs": [],
   "source": [
    "df = pd.read_csv('/mnt/hpc/home/xuxinran/microC/date/date_0114_DropleHiC_rep/A_parsed.pairsam',sep=\"\\t\",header=None,comment=\"#\",usecols=[0,7])\n",
    "# df.columns = [\"readID\",\"chrom1\",\"pos1\",\"chrom2\",\"pos2\",\"strand1\",\"strand2\",\"pair_type\",\"sam1\",\"sam2\"]\n",
    "df.columns = [\"readID\",\"pair_type\"]"
   ]
  },
  {
   "cell_type": "code",
   "execution_count": 19,
   "metadata": {},
   "outputs": [
    {
     "data": {
      "text/plain": [
       "0     LH00708:61:22KGGLLT4:4:1101:10063:1056:CNGGAAC...\n",
       "9     LH00708:61:22KGGLLT4:4:1101:44941:1196:CGATCAA...\n",
       "11    LH00708:61:22KGGLLT4:4:1101:31144:1238:CTAATCT...\n",
       "13    LH00708:61:22KGGLLT4:4:1101:38953:1252:GCTCGTG...\n",
       "14    LH00708:61:22KGGLLT4:4:1101:32139:1280:ACCTAGT...\n",
       "18    LH00708:61:22KGGLLT4:4:1101:20405:1336:GAGCATT...\n",
       "19    LH00708:61:22KGGLLT4:4:1101:30019:1336:AGTAAGT...\n",
       "21    LH00708:61:22KGGLLT4:4:1101:5346:1350:GCTGTGGT...\n",
       "29    LH00708:61:22KGGLLT4:4:1101:43525:1546:GCTATAT...\n",
       "32    LH00708:61:22KGGLLT4:4:1101:31686:1588:GAGTCAT...\n",
       "Name: readID, dtype: object"
      ]
     },
     "execution_count": 19,
     "metadata": {},
     "output_type": "execute_result"
    }
   ],
   "source": [
    "df[df['pair_type'].str.match('^[Nn][Nn]$')].head(10)['readID']"
   ]
  },
  {
   "cell_type": "code",
   "execution_count": 4,
   "metadata": {},
   "outputs": [
    {
     "data": {
      "text/plain": [
       "828388"
      ]
     },
     "execution_count": 4,
     "metadata": {},
     "output_type": "execute_result"
    }
   ],
   "source": [
    "# both M\n",
    "df['pair_type'].str.count('^[Mm][Mm]$').sum()"
   ]
  },
  {
   "cell_type": "code",
   "execution_count": 5,
   "metadata": {},
   "outputs": [
    {
     "data": {
      "text/plain": [
       "69895"
      ]
     },
     "execution_count": 5,
     "metadata": {},
     "output_type": "execute_result"
    }
   ],
   "source": [
    "# single M\n",
    "df['pair_type'].str.count('^[Mm][UuRr]|[UuRr][Mm]$').sum()"
   ]
  },
  {
   "cell_type": "code",
   "execution_count": 8,
   "metadata": {},
   "outputs": [
    {
     "data": {
      "text/plain": [
       "1645516"
      ]
     },
     "execution_count": 8,
     "metadata": {},
     "output_type": "execute_result"
    }
   ],
   "source": [
    "# both N\n",
    "df['pair_type'].str.count('^[Nn][Nn]$').sum()"
   ]
  },
  {
   "cell_type": "code",
   "execution_count": 7,
   "metadata": {},
   "outputs": [
    {
     "data": {
      "text/plain": [
       "718596"
      ]
     },
     "execution_count": 7,
     "metadata": {},
     "output_type": "execute_result"
    }
   ],
   "source": [
    "# single N\n",
    "df['pair_type'].str.count('^(N[^Nn]|n[^Nn]|[^Nn]N|[^Nn]n)$').sum()"
   ]
  }
 ],
 "metadata": {
  "kernelspec": {
   "display_name": "micro-c",
   "language": "python",
   "name": "python3"
  },
  "language_info": {
   "codemirror_mode": {
    "name": "ipython",
    "version": 3
   },
   "file_extension": ".py",
   "mimetype": "text/x-python",
   "name": "python",
   "nbconvert_exporter": "python",
   "pygments_lexer": "ipython3",
   "version": "3.10.8"
  }
 },
 "nbformat": 4,
 "nbformat_minor": 2
}
