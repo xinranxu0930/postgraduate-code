{
 "cells": [
  {
   "cell_type": "code",
   "execution_count": 35,
   "metadata": {},
   "outputs": [],
   "source": [
    "import pandas as pd\n",
    "from scipy.stats import pearsonr\n",
    "from sklearn.metrics import r2_score\n",
    "import matplotlib.pyplot as plt\n",
    "import os\n",
    "from itertools import combinations"
   ]
  },
  {
   "cell_type": "code",
   "execution_count": 2,
   "metadata": {},
   "outputs": [],
   "source": [
    "qtl_dict = {\n",
    "        'inosine-QTL':'/mnt/hpc/home/xuxinran/DirectSeq/data/zhaolin_240206/240201-zhaolin-RNA-merge/v0.8.1/Iqtl/nano_merge_I_summary.csv',\n",
    "        'puQTL':'/mnt/hpc/home/xuxinran/DirectSeq/data/zhaolin_240206/240201-zhaolin-RNA-merge/v0.8.1/puqtl/nano_merge_promoter_summary.csv',\n",
    "        'm6A-QTL':'/mnt/hpc/home/xuxinran/DirectSeq/data/zhaolin_240206/240201-zhaolin-RNA-merge/v0.8.1/m6Aqtl/nano_merge_m6A_summary.csv',\n",
    "        'pseU-QTL':'/mnt/hpc/home/xuxinran/DirectSeq/data/zhaolin_240206/240201-zhaolin-RNA-merge/v0.8.1/pseUqtl/nano_merge_pseU_summary.csv',\n",
    "        'm5C-QTL':'/mnt/hpc/home/xuxinran/DirectSeq/data/zhaolin_240206/240201-zhaolin-RNA-merge/v0.8.1/m5Cqtl/nano_merge_m5C_summary.csv',\n",
    "        'stQTL':'/mnt/hpc/home/xuxinran/DirectSeq/data/zhaolin_240206/240201-zhaolin-RNA-merge/v0.8.1/stqtl/nano_merge_stability_summary.csv',\n",
    "        '3aQTL':'/mnt/hpc/home/xuxinran/DirectSeq/data/zhaolin_240206/240201-zhaolin-RNA-merge/v0.8.1/3aqtl/nano_merge_APA_summary.csv',\n",
    "        'irQTL':'/mnt/hpc/home/xuxinran/DirectSeq/data/zhaolin_240206/240201-zhaolin-RNA-merge/v0.8.1/irqtl/nano_merge_isoform_summary.csv'\n",
    "    }"
   ]
  },
  {
   "cell_type": "code",
   "execution_count": 3,
   "metadata": {},
   "outputs": [],
   "source": [
    "def load_and_filter_qtl(qtl_file,qtl_type):\n",
    "    if qtl_type == \"stQTL\":\n",
    "        cols_to_read = [\"chrom\",\"strand\",\"snp_pos_1base\",\"rsID\",\"pvalue\",\"Beta\"]\n",
    "        qtl_data = pd.read_csv(qtl_file, usecols=cols_to_read)\n",
    "        qtl_data = qtl_data[qtl_data['pvalue'] < 0.05]\n",
    "        qtl_data = qtl_data.loc[qtl_data.groupby([\"chrom\",\"strand\",\"snp_pos_1base\",\"rsID\"])['pvalue'].idxmin()]\n",
    "    else:\n",
    "        cols_to_read = [\"chrom\",\"strand\",\"snp_pos_1base\",\"rsID\",\"BayesFactor\",\"Beta\"]\n",
    "        qtl_data = pd.read_csv(qtl_file, usecols=cols_to_read)\n",
    "        qtl_data = qtl_data[qtl_data['BayesFactor'] > 3]\n",
    "        qtl_data = qtl_data.loc[qtl_data.groupby([\"chrom\",\"strand\",\"snp_pos_1base\",\"rsID\"])['BayesFactor'].idxmax()]\n",
    "    # 修改列名\n",
    "    qtl_data = qtl_data[[\"chrom\",\"strand\",\"snp_pos_1base\",\"rsID\",\"Beta\"]]\n",
    "    qtl_data.columns = [\"chrom\",\"strand\",\"snp_pos_1base\",\"rsID\",f\"{qtl_type}_Beta\"]\n",
    "    return qtl_data"
   ]
  },
  {
   "cell_type": "code",
   "execution_count": 4,
   "metadata": {},
   "outputs": [],
   "source": [
    "df1 = load_and_filter_qtl(qtl_dict[\"inosine-QTL\"],\"inosine-QTL\")\n",
    "df2 = load_and_filter_qtl(qtl_dict[\"puQTL\"],\"puQTL\")\n",
    "df3 = load_and_filter_qtl(qtl_dict[\"m6A-QTL\"],\"m6A-QTL\")\n",
    "df4 = load_and_filter_qtl(qtl_dict[\"pseU-QTL\"],\"pseU-QTL\")\n",
    "df5 = load_and_filter_qtl(qtl_dict[\"m5C-QTL\"],\"m5C-QTL\")\n",
    "df6 = load_and_filter_qtl(qtl_dict[\"stQTL\"],\"stQTL\")\n",
    "df7 = load_and_filter_qtl(qtl_dict[\"3aQTL\"],\"3aQTL\")\n",
    "df8 = load_and_filter_qtl(qtl_dict[\"irQTL\"],\"irQTL\")\n",
    "\n",
    "dfs = [df1, df2, df3, df4, df5, df6, df7, df8]\n",
    "\n",
    "max_len = 0\n",
    "max_df = None\n",
    "for df in dfs:\n",
    "    if len(df) > max_len:\n",
    "        max_len = len(df)\n",
    "        max_df = df\n",
    "merged_df = max_df\n",
    "for df in dfs:\n",
    "    if df is not max_df:\n",
    "        merged_df = pd.merge(merged_df, df, on=[\"chrom\", \"strand\", \"snp_pos_1base\", \"rsID\"], how='outer')\n"
   ]
  },
  {
   "cell_type": "code",
   "execution_count": 34,
   "metadata": {},
   "outputs": [],
   "source": [
    "def calculate_pearson_correlation(df, qtl1, qtl2):\n",
    "  process_df = df[[f'{qtl1}_Beta', f'{qtl2}_Beta']].dropna()\n",
    "  correlation, p_value = pearsonr(process_df[f'{qtl1}_Beta'],process_df[f'{qtl2}_Beta'])\n",
    "  x = process_df[f'{qtl1}_Beta']\n",
    "  y = process_df[f'{qtl2}_Beta']\n",
    "  plt.figure(figsize=(5, 4))\n",
    "  # 修改散点图样式\n",
    "  plt.scatter(x, y, color='black', marker='o', s=20)  # color='black' 设置颜色为黑色，marker='o' 设置点的形状为圆形，s=20 设置点的大小为20\n",
    "  plt.xlabel(f'{qtl1}_Beta')\n",
    "  plt.ylabel(f'{qtl2}_Beta')\n",
    "  # 将相关性结果添加到标题中\n",
    "  title = f'Pearson r = {correlation:.2f}, p = {p_value:.3f}'\n",
    "  plt.title(title)\n",
    "  plt.grid(True)\n",
    "  plt.tight_layout()\n",
    "  plt.savefig(f'{qtl1}_{qtl2}_ß.pdf')"
   ]
  },
  {
   "cell_type": "code",
   "execution_count": null,
   "metadata": {},
   "outputs": [],
   "source": [
    "os.chdir(\"/mnt/hpc/home/xuxinran/DirectSeq/8_downsteam/beta_pearson\")\n",
    "\n",
    "qtl_names = [\n",
    "    'inosine-QTL',\n",
    "    'puQTL',\n",
    "    'm6A-QTL',\n",
    "    'pseU-QTL',\n",
    "    'm5C-QTL',\n",
    "    'stQTL',\n",
    "    '3aQTL',\n",
    "    'irQTL'\n",
    "]\n",
    "for pair in combinations(qtl_names, 2):\n",
    "    calculate_pearson_correlation(merged_df, pair[0], pair[1])"
   ]
  }
 ],
 "metadata": {
  "kernelspec": {
   "display_name": "methy1",
   "language": "python",
   "name": "python3"
  },
  "language_info": {
   "codemirror_mode": {
    "name": "ipython",
    "version": 3
   },
   "file_extension": ".py",
   "mimetype": "text/x-python",
   "name": "python",
   "nbconvert_exporter": "python",
   "pygments_lexer": "ipython3",
   "version": "3.12.8"
  }
 },
 "nbformat": 4,
 "nbformat_minor": 2
}
