{
 "cells": [
  {
   "cell_type": "code",
   "execution_count": 1,
   "metadata": {},
   "outputs": [],
   "source": [
    "import pandas as pd"
   ]
  },
  {
   "cell_type": "code",
   "execution_count": 14,
   "metadata": {},
   "outputs": [],
   "source": [
    "def qtl2bed(filepath,outpath):\n",
    "    df = pd.read_csv(filepath,usecols=['chrom','snp_pos_1base','strand','BayesFactor']) # chrom   start   end   name   score   strand\n",
    "    df = df[df['BayesFactor']>=10]\n",
    "    df['snp_pos_0base'] = df['snp_pos_1base'] - 1\n",
    "    df['n'] = df['chrom']+\"_\"+df['snp_pos_1base'].astype(str)+\"_\"+df['strand']\n",
    "    count_series = df['n'].value_counts()\n",
    "    df['n_count'] = df['n'].map(count_series)\n",
    "    df_unique = df.drop_duplicates(subset='n')\n",
    "    df_unique = df_unique[['chrom', 'snp_pos_0base', 'snp_pos_1base','n', 'n_count','strand']]\n",
    "    df_unique.to_csv(outpath, index=False,sep=\"\\t\",header=False)"
   ]
  },
  {
   "cell_type": "code",
   "execution_count": 15,
   "metadata": {},
   "outputs": [],
   "source": [
    "outdir = \"/mnt/hpc/home/xuxinran/DirectSeq/8_downsteam/qtlModPhred\"\n",
    "\n",
    "qtl2bed(\"/mnt/hpc/home/xuxinran/DirectSeq/data/zhaolin_240206/240201-zhaolin-RNA-merge/v0.8.1/3aqtl/nano_merge_APA_summary.csv\",f\"{outdir}/apaqtl.bed\")\n",
    "qtl2bed(\"/mnt/hpc/home/xuxinran/DirectSeq/data/zhaolin_240206/240201-zhaolin-RNA-merge/v0.8.1/Iqtl/nano_merge_I_summary.csv\",f\"{outdir}/iqtl.bed\")\n",
    "qtl2bed(\"/mnt/hpc/home/xuxinran/DirectSeq/data/zhaolin_240206/240201-zhaolin-RNA-merge/v0.8.1/irqtl/nano_merge_isoform_summary.csv\",f\"{outdir}/isoqtl.bed\")\n",
    "qtl2bed(\"/mnt/hpc/home/xuxinran/DirectSeq/data/zhaolin_240206/240201-zhaolin-RNA-merge/v0.8.1/m5Cqtl/nano_merge_m5C_summary.csv\",f\"{outdir}/m5Cqtl.bed\")\n",
    "qtl2bed(\"/mnt/hpc/home/xuxinran/DirectSeq/data/zhaolin_240206/240201-zhaolin-RNA-merge/v0.8.1/m6Aqtl/nano_merge_m6A_summary.csv\",f\"{outdir}/m6Aqtl.bed\")\n",
    "qtl2bed(\"/mnt/hpc/home/xuxinran/DirectSeq/data/zhaolin_240206/240201-zhaolin-RNA-merge/v0.8.1/pseUqtl/nano_merge_pseU_summary.csv\",f\"{outdir}/pseUqtl.bed\")\n",
    "qtl2bed(\"/mnt/hpc/home/xuxinran/DirectSeq/data/zhaolin_240206/240201-zhaolin-RNA-merge/v0.8.1/puqtl/nano_merge_promoter_summary.csv\",f\"{outdir}/puqtl.bed\")\n"
   ]
  },
  {
   "cell_type": "code",
   "execution_count": 16,
   "metadata": {},
   "outputs": [],
   "source": [
    "df = pd.read_csv(\"/mnt/hpc/home/xuxinran/DirectSeq/data/zhaolin_240206/240201-zhaolin-RNA-merge/v0.8.1/stqtl/nano_merge_stability_summary.csv\",usecols=['chrom','snp_pos_1base','strand','pvalue']) # chrom   start   end   name   score   strand\n",
    "df = df[df['pvalue']<0.01]\n",
    "df['snp_pos_0base'] = df['snp_pos_1base'] - 1\n",
    "df['n'] = df['chrom']+\"_\"+df['snp_pos_1base'].astype(str)+\"_\"+df['strand']\n",
    "count_series = df['n'].value_counts()\n",
    "df['n_count'] = df['n'].map(count_series)\n",
    "df_unique = df.drop_duplicates(subset='n')\n",
    "df_unique = df_unique[['chrom', 'snp_pos_0base', 'snp_pos_1base','n', 'n_count','strand']]\n",
    "df_unique.to_csv(f\"{outdir}/stqtl.bed\", index=False,sep=\"\\t\",header=False)"
   ]
  },
  {
   "cell_type": "markdown",
   "metadata": {},
   "source": [
    "```shell\n",
    "sort -k1,1 -k2,2n m5Cqtl.bed > m5C.sorted.bed\n",
    "perl /f/xinran/methy/M6A/metaPlotR/annotate_bed_file.pl --bed m5C.sorted.bed --bed2 /f/xinran/methy/M6A/metaPlotR/ref/hg19_annot.sorted.bed > annot_m5C_all.bed\n",
    "perl /f/xinran/methy/M6A/metaPlotR/rel_and_abs_dist_calc.pl --bed annot_m5C_all.bed --regions /f/xinran/methy/M6A/metaPlotR/ref/region_sizes.txt > m5C.dist.measures.all.txt\n",
    "Rscript /f/xinran/methy/M6A/metaPlotR/metaPlot.R --dist m5C.dist.measures.all.txt --name m5C  --od ./\n",
    "\n",
    "sort -k1,1 -k2,2n m6Aqtl.bed > m6A.sorted.bed\n",
    "perl /f/xinran/methy/M6A/metaPlotR/annotate_bed_file.pl --bed m6A.sorted.bed --bed2 /f/xinran/methy/M6A/metaPlotR/ref/hg19_annot.sorted.bed > annot_m6A_all.bed\n",
    "perl /f/xinran/methy/M6A/metaPlotR/rel_and_abs_dist_calc.pl --bed annot_m6A_all.bed --regions /f/xinran/methy/M6A/metaPlotR/ref/region_sizes.txt > m6A.dist.measures.all.txt\n",
    "Rscript /f/xinran/methy/M6A/metaPlotR/metaPlot.R --dist m6A.dist.measures.all.txt --name m6A  --od ./\n",
    "\n",
    "sort -k1,1 -k2,2n pseUqtl.bed > pseU.sorted.bed\n",
    "perl /f/xinran/methy/M6A/metaPlotR/annotate_bed_file.pl --bed pseU.sorted.bed --bed2 /f/xinran/methy/M6A/metaPlotR/ref/hg19_annot.sorted.bed > annot_pseU_all.bed\n",
    "perl /f/xinran/methy/M6A/metaPlotR/rel_and_abs_dist_calc.pl --bed annot_pseU_all.bed --regions /f/xinran/methy/M6A/metaPlotR/ref/region_sizes.txt > pseU.dist.measures.all.txt\n",
    "Rscript /f/xinran/methy/M6A/metaPlotR/metaPlot.R --dist pseU.dist.measures.all.txt --name pseU --od ./\n",
    "\n",
    "sort -k1,1 -k2,2n iqtl.bed > i.sorted.bed\n",
    "perl /f/xinran/methy/M6A/metaPlotR/annotate_bed_file.pl --bed i.sorted.bed --bed2 /f/xinran/methy/M6A/metaPlotR/ref/hg19_annot.sorted.bed > annot_i_all.bed\n",
    "perl /f/xinran/methy/M6A/metaPlotR/rel_and_abs_dist_calc.pl --bed annot_i_all.bed --regions /f/xinran/methy/M6A/metaPlotR/ref/region_sizes.txt > i.dist.measures.all.txt\n",
    "Rscript /f/xinran/methy/M6A/metaPlotR/metaPlot.R --dist i.dist.measures.all.txt --name i --od ./\n",
    "\n",
    "sort -k1,1 -k2,2n isoqtl.bed > iso.sorted.bed\n",
    "perl /f/xinran/methy/M6A/metaPlotR/annotate_bed_file.pl --bed iso.sorted.bed --bed2 /f/xinran/methy/M6A/metaPlotR/ref/hg19_annot.sorted.bed > annot_iso_all.bed\n",
    "perl /f/xinran/methy/M6A/metaPlotR/rel_and_abs_dist_calc.pl --bed annot_iso_all.bed --regions /f/xinran/methy/M6A/metaPlotR/ref/region_sizes.txt > iso.dist.measures.all.txt\n",
    "Rscript /f/xinran/methy/M6A/metaPlotR/metaPlot.R --dist iso.dist.measures.all.txt --name iso --od ./\n",
    "\n",
    "sort -k1,1 -k2,2n apaqtl.bed > apa.sorted.bed\n",
    "perl /f/xinran/methy/M6A/metaPlotR/annotate_bed_file.pl --bed apa.sorted.bed --bed2 /f/xinran/methy/M6A/metaPlotR/ref/hg19_annot.sorted.bed > annot_apa_all.bed\n",
    "perl /f/xinran/methy/M6A/metaPlotR/rel_and_abs_dist_calc.pl --bed annot_apa_all.bed --regions /f/xinran/methy/M6A/metaPlotR/ref/region_sizes.txt > apa.dist.measures.all.txt\n",
    "Rscript /f/xinran/methy/M6A/metaPlotR/metaPlot.R --dist apa.dist.measures.all.txt --name apa --od ./\n",
    "\n",
    "sort -k1,1 -k2,2n puqtl.bed > pu.sorted.bed\n",
    "perl /f/xinran/methy/M6A/metaPlotR/annotate_bed_file.pl --bed pu.sorted.bed --bed2 /f/xinran/methy/M6A/metaPlotR/ref/hg19_annot.sorted.bed > annot_pu_all.bed\n",
    "perl /f/xinran/methy/M6A/metaPlotR/rel_and_abs_dist_calc.pl --bed annot_pu_all.bed --regions /f/xinran/methy/M6A/metaPlotR/ref/region_sizes.txt > pu.dist.measures.all.txt\n",
    "Rscript /f/xinran/methy/M6A/metaPlotR/metaPlot.R --dist pu.dist.measures.all.txt --name pu --od ./\n",
    "\n",
    "sort -k1,1 -k2,2n stqtl.bed > st.sorted.bed\n",
    "perl /f/xinran/methy/M6A/metaPlotR/annotate_bed_file.pl --bed st.sorted.bed --bed2 /f/xinran/methy/M6A/metaPlotR/ref/hg19_annot.sorted.bed > annot_st_all.bed\n",
    "perl /f/xinran/methy/M6A/metaPlotR/rel_and_abs_dist_calc.pl --bed annot_st_all.bed --regions /f/xinran/methy/M6A/metaPlotR/ref/region_sizes.txt > st.dist.measures.all.txt\n",
    "Rscript /f/xinran/methy/M6A/metaPlotR/metaPlot.R --dist st.dist.measures.all.txt --name st --od ./\n",
    "```"
   ]
  }
 ],
 "metadata": {
  "kernelspec": {
   "display_name": "methy",
   "language": "python",
   "name": "python3"
  },
  "language_info": {
   "codemirror_mode": {
    "name": "ipython",
    "version": 3
   },
   "file_extension": ".py",
   "mimetype": "text/x-python",
   "name": "python",
   "nbconvert_exporter": "python",
   "pygments_lexer": "ipython3",
   "version": "3.10.8"
  }
 },
 "nbformat": 4,
 "nbformat_minor": 2
}
