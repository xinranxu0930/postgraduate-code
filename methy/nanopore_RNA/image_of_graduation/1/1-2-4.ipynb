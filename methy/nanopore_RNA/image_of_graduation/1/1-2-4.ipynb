{
 "cells": [
  {
   "cell_type": "code",
   "execution_count": 2,
   "metadata": {},
   "outputs": [],
   "source": [
    "import pandas as pd"
   ]
  },
  {
   "cell_type": "code",
   "execution_count": 1,
   "metadata": {},
   "outputs": [],
   "source": [
    "dict = {\n",
    "    \"m6A\": \"/mnt/hpc/home/xuxinran/DirectSeq/data/zhaolin_240206/240201-zhaolin-RNA-merge/v0.8.1/m6Aqtl/nano_merge_m6A_summary.csv\",\n",
    "    \"pseU\": \"/mnt/hpc/home/xuxinran/DirectSeq/data/zhaolin_240206/240201-zhaolin-RNA-merge/v0.8.1/pseUqtl/nano_merge_pseU_summary.csv\",\n",
    "    \"m5C\": \"/mnt/hpc/home/xuxinran/DirectSeq/data/zhaolin_240206/240201-zhaolin-RNA-merge/v0.8.1/m5Cqtl/nano_merge_m5C_summary.csv\",\n",
    "    \"I\": \"/mnt/hpc/home/xuxinran/DirectSeq/data/zhaolin_240206/240201-zhaolin-RNA-merge/v0.8.1/Iqtl/nano_merge_I_summary.csv\",\n",
    "    \"apa\":\"/mnt/hpc/home/xuxinran/DirectSeq/data/zhaolin_240206/240201-zhaolin-RNA-merge/v0.8.1/3aqtl/nano_merge_APA_summary.csv\",\n",
    "    \"isoform\" : \"/mnt/hpc/home/xuxinran/DirectSeq/data/zhaolin_240206/240201-zhaolin-RNA-merge/v0.8.1/irqtl/nano_merge_isoform_summary.csv\",\n",
    "    \"promoter\" : \"/mnt/hpc/home/xuxinran/DirectSeq/data/zhaolin_240206/240201-zhaolin-RNA-merge/v0.8.1/puqtl/nano_merge_promoter_summary.csv\"\n",
    "}"
   ]
  },
  {
   "cell_type": "code",
   "execution_count": 6,
   "metadata": {},
   "outputs": [
    {
     "name": "stdout",
     "output_type": "stream",
     "text": [
      "m6A\n",
      "503069\n",
      "10019\n",
      "2604\n",
      "844\n"
     ]
    },
    {
     "name": "stderr",
     "output_type": "stream",
     "text": [
      "/tmp/ipykernel_28411/487594456.py:2: DtypeWarning: Columns (12) have mixed types. Specify dtype option on import or set low_memory=False.\n",
      "  df = pd.read_csv(qtl_file)\n"
     ]
    },
    {
     "name": "stdout",
     "output_type": "stream",
     "text": [
      "pseU\n",
      "463323\n",
      "6693\n",
      "1409\n",
      "405\n"
     ]
    },
    {
     "name": "stderr",
     "output_type": "stream",
     "text": [
      "/tmp/ipykernel_28411/487594456.py:2: DtypeWarning: Columns (12) have mixed types. Specify dtype option on import or set low_memory=False.\n",
      "  df = pd.read_csv(qtl_file)\n"
     ]
    },
    {
     "name": "stdout",
     "output_type": "stream",
     "text": [
      "m5C\n",
      "459208\n",
      "6643\n",
      "1326\n",
      "328\n",
      "I\n",
      "126399\n",
      "1849\n",
      "309\n",
      "60\n",
      "apa\n",
      "43240\n",
      "1333\n",
      "588\n",
      "320\n",
      "isoform\n",
      "46891\n",
      "1350\n",
      "500\n",
      "242\n",
      "promoter\n",
      "4962\n",
      "150\n",
      "65\n",
      "32\n"
     ]
    }
   ],
   "source": [
    "for qtl,qtl_file in dict.items():\n",
    "    df = pd.read_csv(qtl_file)\n",
    "    print(qtl)\n",
    "    print(len(df))\n",
    "    print(len(df[df['BayesFactor'] > 3]))\n",
    "    print(len(df[df['BayesFactor'] > 10]))\n",
    "    print(len(df[df['BayesFactor'] > 50]))"
   ]
  }
 ],
 "metadata": {
  "kernelspec": {
   "display_name": "methy1",
   "language": "python",
   "name": "python3"
  },
  "language_info": {
   "codemirror_mode": {
    "name": "ipython",
    "version": 3
   },
   "file_extension": ".py",
   "mimetype": "text/x-python",
   "name": "python",
   "nbconvert_exporter": "python",
   "pygments_lexer": "ipython3",
   "version": "3.12.8"
  }
 },
 "nbformat": 4,
 "nbformat_minor": 2
}
