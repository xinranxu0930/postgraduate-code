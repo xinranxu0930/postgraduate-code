{
 "cells": [
  {
   "cell_type": "markdown",
   "metadata": {
    "vscode": {
     "languageId": "plaintext"
    }
   },
   "source": [
    "## apa"
   ]
  },
  {
   "cell_type": "code",
   "execution_count": null,
   "metadata": {},
   "outputs": [],
   "source": [
    "import pandas as pd"
   ]
  },
  {
   "cell_type": "code",
   "execution_count": null,
   "metadata": {},
   "outputs": [
    {
     "name": "stdout",
     "output_type": "stream",
     "text": [
      "12274894\n",
      "0.6826416005550605\n",
      "48613\n",
      "0.6767879268819\n"
     ]
    }
   ],
   "source": [
    "## 1、统计有多少条read以及有多少种apa\n",
    "total_read = 17981462\n",
    "total_apa = 71829\n",
    "df = pd.read_csv(\"/mnt/hpc/home/xuxinran/DirectSeq/data/zhaolin_240206/240201-zhaolin-RNA-merge/v0.8.1/3aqtl/nano_merge_overlap.bed\", sep=\"\\t\", header=None,usecols = [3,9],names = ['readID','apaID'])\n",
    "print(len(df))\n",
    "print(len(df)/total_read)\n",
    "print(len(df['apaID'].unique()))\n",
    "print(len(df['apaID'].unique())/total_apa)"
   ]
  },
  {
   "cell_type": "code",
   "execution_count": null,
   "metadata": {},
   "outputs": [],
   "source": [
    "## 图 这里还要重新画的！\n",
    "# APA上游的motif\n",
    "\n",
    "# 先将位点改成区间\n",
    "pre = \"/mnt/hpc/home/xuxinran/DirectSeq/data/zhaolin_240206/240201-zhaolin-RNA-merge/v0.8.0/3aqtl/nano_merge\"\n",
    "res_dir = \"/mnt/hpc/home/xuxinran/DirectSeq/data/zhaolin_240206/240201-zhaolin-RNA-merge/v0.8.0/3aqtl\"\n",
    "all_read = pd.read_csv(f'{pre}_readend.bed',sep='\\t',header=None,names=['chr','start','end','name','score','strand'])\n",
    "valid_read = pd.read_csv(f'{pre}_overlap.bed',sep='\\t',header=None,usecols = [3],names = ['name'])\n",
    "filtered_read = all_read[all_read['name'].isin(valid_read['name'])]\n",
    "filtered_read['start'] = np.where(filtered_read['strand'] == '+', filtered_read['start']-40, filtered_read['start'])\n",
    "filtered_read['end'] = np.where(filtered_read['strand'] == '+', filtered_read['end'], filtered_read['end'] + 40)\n",
    "filtered_read.to_csv(f'{pre}_sorted_interval.bed',sep='\\t',header=False,index=False)\n",
    "\n",
    "\n",
    "fasta = \"/mnt/hpc/home/xuxinran/REF/hg19/hg19.fa\"\n",
    "call(f\"awk '$6 == \\\"+\\\" {{print > \\\"{res_dir}/positive_strand.bed\\\"}} $6 == \\\"-\\\" {{print > \\\"{res_dir}/negative_strand.bed\\\"}}' {pre}_sorted_interval.bed\", shell=True)\n",
    "call(f'bedtools getfasta -fi {fasta} -bed {res_dir}/positive_strand.bed -name -tab -fo {pre}_check_motif_+.bed',shell=True)\n",
    "call(f'bedtools getfasta -fi {fasta} -bed {res_dir}/negative_strand.bed -name -tab -fo {pre}_check_motif_-.bed',shell=True)\n",
    "\n",
    "\n",
    "df_seq_positive = pd.read_csv(f'{pre}_check_motif_+.bed',sep='\\t',header=None,names=['name','seq'])\n",
    "df_seq_negative = pd.read_csv(f'{pre}_check_motif_-.bed',sep='\\t',header=None,names=['name','seq'])\n",
    "df_seq_positive['seq'] = df_seq_positive['seq'].apply(lambda x: x.upper())\n",
    "df_seq_negative['seq'] = df_seq_negative['seq'].apply(lambda x: x.upper())\n",
    "\n",
    "def find_motif_and_position(seq, strand, motifs=[\"AATAAA\", \"ATTAAA\", \"AGTAAA\", \"TATAAA\", \"CATAAA\", \"GATAAA\", \"AAAAAA\"], motifs_reverse=[\"TTTATT\", \"TTTAAT\", \"TTTACT\", \"TTTATA\", \"TTTATG\", \"TTTATC\", \"TTTTTT\"]):\n",
    "    l = motifs if strand == \"+\" else motifs_reverse\n",
    "    for motif in l:\n",
    "        positions = []\n",
    "        pos = -1\n",
    "        while True:\n",
    "            pos = seq.find(motif, pos + 1)\n",
    "            if pos == -1:\n",
    "                break\n",
    "            positions.append(pos)\n",
    "        if positions:\n",
    "            idx = -1 if strand == \"+\" else 0\n",
    "            return motif, positions[idx]\n",
    "    return None, None\n",
    "\n",
    "motif_info_positive = df_seq_positive['seq'].apply(lambda x: find_motif_and_position(x, \"+\"))\n",
    "df_seq_positive['motif'] = motif_info_positive.apply(lambda x: x[0])\n",
    "df_seq_positive['motif_position'] = motif_info_positive.apply(lambda x: x[1])\n",
    "motif_info_negative = df_seq_negative['seq'].apply(lambda x: find_motif_and_position(x, \"-\"))\n",
    "df_seq_negative['motif'] = motif_info_negative.apply(lambda x: x[0])\n",
    "df_seq_negative['motif_position'] = motif_info_negative.apply(lambda x: x[1])\n",
    "df_seq_positive['motif_position'] = df_seq_positive['motif_position'].apply(lambda x: x-40 if x is not None else x)\n",
    "df_seq_negative['motif_position'] = df_seq_negative['motif_position'].apply(lambda x: x*(-1)-6 if x is not None else x)\n",
    "df_combined = pd.concat([df_seq_positive, df_seq_negative], axis=0)\n",
    "df_combined.reset_index(drop=True, inplace=True)\n",
    "\n",
    "# 统计没比对到motif和阴性对照的数量\n",
    "none_count = df_combined['motif'].isna().sum()\n",
    "if none_count != 0:\n",
    "    none_rate = none_count/len(df_combined)\n",
    "    print(f\"None rate: {none_rate:.2%}\")\n",
    "else:\n",
    "    print(\"None rate: 0\")\n",
    "AAAAAA_count = len(df_combined[df_combined['motif'].isin(['AAAAAA', 'TTTTTT'])])\n",
    "if AAAAAA_count != 0:\n",
    "    AAAAAA_rate = AAAAAA_count / len(df_combined)\n",
    "    print(f\"AAAAAA rate: {AAAAAA_rate:.2%}\")\n",
    "else:\n",
    "    print(\"AAAAAA rate: 0\")\n",
    "\n",
    "\n",
    "# 画图\n",
    "df_combined = df_combined[df_combined['motif'].notna()]\n",
    "df_combined_AATAAA = df_combined[df_combined['motif'].isin(['AATAAA', 'TTTATT'])]['motif_position']\n",
    "df_combined_other = df_combined[~df_combined['motif'].isin(['AATAAA', 'TTTATT', 'AAAAAA', 'TTTTTT'])]['motif_position']\n",
    "\n",
    "# 计算频数\n",
    "counter1 = Counter(list(df_combined_AATAAA))\n",
    "counter2 = Counter(list(df_combined_other))\n",
    "\n",
    "# 获取所有的值\n",
    "all_values = sorted(set(list(df_combined_AATAAA) + list(df_combined_other)))\n",
    "\n",
    "# 生成频数列表\n",
    "freq1 = [counter1.get(x, 0) for x in all_values]\n",
    "freq2 = [counter2.get(x, 0) for x in all_values]\n",
    "\n",
    "# 插值以平滑曲线\n",
    "x_new = np.linspace(min(all_values), max(all_values), 800)  # 生成更多的点进行插值\n",
    "\n",
    "f1 = interp1d(all_values, freq1, kind='cubic')\n",
    "f2 = interp1d(all_values, freq2, kind='cubic')\n",
    "\n",
    "# 绘制平滑的折线图\n",
    "plt.figure(figsize=(10, 6))\n",
    "plt.plot(x_new, f1(x_new), color='#845EC2', alpha=0.7, label='AATAAA')\n",
    "plt.fill_between(x_new, f1(x_new), color='#845EC2', alpha=0.3)\n",
    "plt.plot(x_new, f2(x_new), color='#2C73D2', alpha=0.7, label='other motif')\n",
    "plt.fill_between(x_new, f2(x_new), color='#2C73D2', alpha=0.3)\n",
    "\n",
    "\n",
    "# 添加标签和标题\n",
    "plt.xlabel('Distance between signal site and PAS site')\n",
    "plt.legend(loc='upper right')\n",
    "\n",
    "plt.show()\n",
    "\n",
    "call(f'rm {pre}_sorted_interval.bed {res_dir}/positive_strand.bed {res_dir}/negative_strand.bed {pre}_check_motif_+.bed {pre}_check_motif_-.bed',shell=True)"
   ]
  },
  {
   "cell_type": "markdown",
   "metadata": {},
   "source": [
    "## isoform"
   ]
  },
  {
   "cell_type": "code",
   "execution_count": 10,
   "metadata": {},
   "outputs": [
    {
     "name": "stdout",
     "output_type": "stream",
     "text": [
      "5277957\n",
      "0.293522128512131\n",
      "149855\n",
      "0.6904010504250074\n"
     ]
    }
   ],
   "source": [
    "## 1、统计有多少条read以及有多少种apa\n",
    "import pickle\n",
    "\n",
    "total_read = 17981462\n",
    "total_apa = 217055\n",
    "\n",
    "with open('/mnt/hpc/home/xuxinran/DirectSeq/data/zhaolin_240206/240201-zhaolin-RNA-merge/v0.8.1/irqtl/nano_merge_isoform_read.pkl', 'rb') as f:\n",
    "    data = pickle.load(f)\n",
    "\n",
    "print(len(data))\n",
    "print(len(data)/total_read)\n",
    "print(len(set(data.values())))\n",
    "print(len(set(data.values()))/total_apa)"
   ]
  },
  {
   "cell_type": "code",
   "execution_count": null,
   "metadata": {},
   "outputs": [],
   "source": [
    "# isoform 雷达图\n",
    "\n",
    "import matplotlib.pyplot as plt\n",
    "import numpy as np\n",
    "\n",
    "# 数据\n",
    "labels = ['Base\\nLevel', 'Exon Level', 'Intron Level', 'Intron Chain\\nLevel', 'Transcript\\nLevel', 'Locus\\nLevel']\n",
    "values = [87.4, 92.8, 98.1, 83.9, 69.5, 67.4]\n",
    "\n",
    "# 为了闭合雷达图，需要在末尾添加第一个值\n",
    "values += values[:1]\n",
    "\n",
    "# 角度\n",
    "angles = np.linspace(0, 2 * np.pi, len(labels), endpoint=False).tolist()\n",
    "angles += angles[:1]\n",
    "\n",
    "# 绘制雷达图\n",
    "fig, ax = plt.subplots(figsize=(6, 6), subplot_kw=dict(polar=True))\n",
    "ax.fill(angles, values, color='#FF9488', alpha=0.25)\n",
    "ax.plot(angles, values, color='#FF9488', linewidth=2)\n",
    "\n",
    "# 设置标签\n",
    "ax.set_yticklabels([])\n",
    "ax.set_xticks(angles[:-1])\n",
    "ax.set_xticklabels(labels)\n",
    "\n",
    "# 显示图形\n",
    "plt.title('Levels Radar Chart')\n",
    "plt.show()"
   ]
  },
  {
   "cell_type": "markdown",
   "metadata": {},
   "source": [
    "## 成熟度得分"
   ]
  },
  {
   "cell_type": "code",
   "execution_count": 14,
   "metadata": {},
   "outputs": [
    {
     "name": "stdout",
     "output_type": "stream",
     "text": [
      "0.8103614155511938\n",
      "第一个四分位数 (Q1): 1.0\n",
      "中位数 (Q2): 1.0\n",
      "第三个四分位数 (Q3): 1.0\n"
     ]
    }
   ],
   "source": [
    "## 1、统计有多少条read以及有多少种apa\n",
    "total_read = 17981462\n",
    "use_read = 14571483\n",
    "df = pd.read_csv(\"/mnt/hpc/home/xuxinran/DirectSeq/data/zhaolin_240206/240201-zhaolin-RNA-merge/v0.8.1/stqtl/nano_merge_read_stability.csv\", usecols = ['readID','stability'])\n",
    "\n",
    "print(use_read/total_read)\n",
    "\n",
    "# 获取四分位数\n",
    "q1 = df['stability'].quantile(0.25)  # 第一个四分位数（25%）\n",
    "q2 = df['stability'].quantile(0.5)   # 第二个四分位数（50%），即中位数\n",
    "q3 = df['stability'].quantile(0.75)  # 第三个四分位数（75%）\n",
    "\n",
    "# 打印结果\n",
    "print(\"第一个四分位数 (Q1):\", q1)\n",
    "print(\"中位数 (Q2):\", q2)\n",
    "print(\"第三个四分位数 (Q3):\", q3)"
   ]
  },
  {
   "cell_type": "code",
   "execution_count": null,
   "metadata": {},
   "outputs": [],
   "source": [
    "## RNA成熟度得分折线图\n",
    "df = pd.read_csv('/mnt/hpc/home/xuxinran/DirectSeq/data/zhaolin_240206/240201-zhaolin-RNA-merge/v0.8.0/stqtl/nano_merge_read_stability.csv',usecols = [4])\n",
    "\n",
    "bins = [0, 0.95, 0.96, 0.97, 0.98, 0.99, 1.0]\n",
    "labels = ['<0.95', '0.95-0.96', '0.96-0.97', '0.97-0.98', '0.98-0.99', '>0.99']\n",
    "\n",
    "# 将read stability ratio分成几个区间\n",
    "read_stability_ratio_binned = pd.cut(df['stability'], bins, labels=labels)\n",
    "\n",
    "# 计算每个bin的频率\n",
    "bin_counts = read_stability_ratio_binned.value_counts(normalize=True).sort_index() * 100\n",
    "\n",
    "# 重置索引以便于绘图\n",
    "bin_counts = bin_counts.reset_index()\n",
    "bin_counts.columns = ['Read Stability Ratio Bins', 'Percentage']\n",
    "\n",
    "# 准备平滑数据\n",
    "x = np.arange(len(bin_counts))\n",
    "y = bin_counts['Percentage']\n",
    "xnew = np.linspace(x.min(), x.max(), 300)\n",
    "\n",
    "# 插值\n",
    "spl = make_interp_spline(x, y, k=3)  # type: BSpline\n",
    "y_smooth = spl(xnew)\n",
    "\n",
    "# 绘制平滑折线图\n",
    "plt.figure(figsize=(10, 6))\n",
    "plt.plot(xnew, y_smooth,color='#70AD47', linewidth=3.5, alpha=0.8)\n",
    "plt.xticks(x, labels)\n",
    "# plt.xlabel('Read Stability Score Bins')\n",
    "plt.ylabel('Percentage of Reads per Stability Score(%)', fontsize=14)\n",
    "plt.show()"
   ]
  },
  {
   "cell_type": "markdown",
   "metadata": {},
   "source": [
    "## promoter"
   ]
  },
  {
   "cell_type": "code",
   "execution_count": 11,
   "metadata": {},
   "outputs": [
    {
     "name": "stdout",
     "output_type": "stream",
     "text": [
      "6355849\n",
      "0.3534667537044541\n",
      "13667\n",
      "0.6348181522597427\n"
     ]
    }
   ],
   "source": [
    "## 1、统计有多少条read以及有多少种apa\n",
    "total_read = 17981462\n",
    "total_apa = 21529\n",
    "\n",
    "df = pd.read_csv(\"/mnt/hpc/home/xuxinran/DirectSeq/data/zhaolin_240206/240201-zhaolin-RNA-merge/v0.8.1/puqtl/nano_merge_overlap_uniq.bed\", sep=\"\\t\", header=None,usecols = [3,9],names = ['readID','apaID'])\n",
    "print(len(df))\n",
    "print(len(df)/total_read)\n",
    "print(len(df['apaID'].unique()))\n",
    "print(len(df['apaID'].unique())/total_apa)"
   ]
  },
  {
   "cell_type": "code",
   "execution_count": null,
   "metadata": {},
   "outputs": [],
   "source": [
    "# TSS上游的motif\n",
    "\n",
    "\n",
    "import pandas as pd\n",
    "import numpy as np\n",
    "from subprocess import call\n",
    "\n",
    "work_dir = \"/mnt/hpc/home/xuxinran/DirectSeq/data/zhaolin_240206/240201-zhaolin-RNA-merge/v0.8.0/tssqtl\"\n",
    "valid_read = pd.read_csv(f'{work_dir}/nano_merge_overlap_uniq.bed', sep='\\t', header=None, usecols=[0, 1, 2, 3, 4, 5], names=['chr', 'start', 'end', 'name', 'score', 'strand'])\n",
    "\n",
    "# 提取TATAbox上游序列（25-40bp）\n",
    "# 对于正链，从start提取；对于负链，从end提取\n",
    "UPSTREAM_OFFSET = 40\n",
    "DOWNSTREAM_OFFSET = 10\n",
    "\n",
    "valid_read['s_tata'] = np.where(valid_read['strand'] == '+', \n",
    "                                valid_read['start'] - UPSTREAM_OFFSET, \n",
    "                                valid_read['end'] + DOWNSTREAM_OFFSET)\n",
    "\n",
    "valid_read['e_tata'] = np.where(valid_read['strand'] == '+', \n",
    "                                valid_read['start'] - DOWNSTREAM_OFFSET, \n",
    "                                valid_read['end'] + UPSTREAM_OFFSET)\n",
    "# 保存到BED文件\n",
    "valid_read[['chr', 's_tata', 'e_tata', 'name', 'score', 'strand']].to_csv(f'{work_dir}/tata.bed', sep='\\t', header=False, index=False)\n",
    "\n",
    "fasta = \"/mnt/hpc/home/xuxinran/REF/hg19/hg19.fa\"\n",
    "call(f'bedtools getfasta -fi {fasta} -bed {work_dir}/tata.bed -s -fo {work_dir}/tata.fa', shell=True)\n",
    "call(f'meme {work_dir}/tata.fa \\\n",
    "  -o {work_dir}/meme_output \\\n",
    "  -dna \\\n",
    "  -mod zoops \\\n",
    "  -nmotifs 3 \\\n",
    "  -minw 6 \\\n",
    "  -maxw 15 \\\n",
    "  -revcomp',shell=True)\n"
   ]
  }
 ],
 "metadata": {
  "kernelspec": {
   "display_name": "methy1",
   "language": "python",
   "name": "python3"
  },
  "language_info": {
   "codemirror_mode": {
    "name": "ipython",
    "version": 3
   },
   "file_extension": ".py",
   "mimetype": "text/x-python",
   "name": "python",
   "nbconvert_exporter": "python",
   "pygments_lexer": "ipython3",
   "version": "3.12.8"
  }
 },
 "nbformat": 4,
 "nbformat_minor": 2
}
