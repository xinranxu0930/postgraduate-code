{
 "cells": [
  {
   "cell_type": "markdown",
   "metadata": {},
   "source": [
    "# 绘制散点图\n",
    "\n",
    "安装\n",
    "```r\n",
    "install.packages(\".\", repos = NULL, type = \"source\")\n",
    "```"
   ]
  },
  {
   "cell_type": "markdown",
   "metadata": {},
   "source": [
    "首先methy1环境 找到所有的需要分析的tsv文件"
   ]
  },
  {
   "cell_type": "code",
   "execution_count": null,
   "metadata": {},
   "outputs": [],
   "source": [
    "import pandas as pd\n",
    "import os\n",
    "import numpy as np\n",
    "from scipy.stats import norm\n",
    "from scipy.optimize import minimize_scalar\n",
    "from subprocess import call\n",
    "\n",
    "os.chdir('/mnt/hpc/home/xuxinran/DirectSeq/9_image_of_graduation/2')"
   ]
  },
  {
   "cell_type": "code",
   "execution_count": 13,
   "metadata": {},
   "outputs": [],
   "source": [
    "qtl_dict = {\n",
    "        'inosine-QTL':'/mnt/hpc/home/xuxinran/DirectSeq/data/zhaolin_240206/240201-zhaolin-RNA-merge/v0.8.1/Iqtl/nano_merge_I_summary.csv',\n",
    "        'puQTL':'/mnt/hpc/home/xuxinran/DirectSeq/data/zhaolin_240206/240201-zhaolin-RNA-merge/v0.8.1/puqtl/nano_merge_promoter_summary.csv',\n",
    "        'm6A-QTL':'/mnt/hpc/home/xuxinran/DirectSeq/data/zhaolin_240206/240201-zhaolin-RNA-merge/v0.8.1/m6Aqtl/nano_merge_m6A_summary.csv',\n",
    "        'pseU-QTL':'/mnt/hpc/home/xuxinran/DirectSeq/data/zhaolin_240206/240201-zhaolin-RNA-merge/v0.8.1/pseUqtl/nano_merge_pseU_summary.csv',\n",
    "        'm5C-QTL':'/mnt/hpc/home/xuxinran/DirectSeq/data/zhaolin_240206/240201-zhaolin-RNA-merge/v0.8.1/m5Cqtl/nano_merge_m5C_summary.csv',\n",
    "        'stQTL':'/mnt/hpc/home/xuxinran/DirectSeq/data/zhaolin_240206/240201-zhaolin-RNA-merge/v0.8.1/stqtl/nano_merge_stability_summary.csv',\n",
    "        '3aQTL':'/mnt/hpc/home/xuxinran/DirectSeq/data/zhaolin_240206/240201-zhaolin-RNA-merge/v0.8.1/3aqtl/nano_merge_APA_summary.csv',\n",
    "        'irQTL':'/mnt/hpc/home/xuxinran/DirectSeq/data/zhaolin_240206/240201-zhaolin-RNA-merge/v0.8.1/irqtl/nano_merge_isoform_summary.csv'\n",
    "    }"
   ]
  },
  {
   "cell_type": "code",
   "execution_count": 15,
   "metadata": {},
   "outputs": [],
   "source": [
    "def bf_to_pvalue(bf, f, trait_type=\"quant\", N=104, s=None):\n",
    "    \"\"\"\n",
    "    Calculate p-value from Bayes Factor for a SNP given other parameters.\n",
    "\n",
    "    Parameters:\n",
    "    - bf: Bayes Factor (not log)\n",
    "    - f: minor allele frequency (MAF)\n",
    "    - trait_type: 'quant' for quantitative trait or 'cc' for case-control\n",
    "    - N: sample size\n",
    "    - s: proportion of samples that are cases (required if trait_type is 'cc')\n",
    "\n",
    "    Returns:\n",
    "    - Estimated p-value\n",
    "    \"\"\"\n",
    "    def Var_data(f, N):\n",
    "        \"\"\"Variance calculation for quantitative trait.\"\"\"\n",
    "        return 1 / (2 * N * f * (1 - f))\n",
    "    def Var_data_cc(f, N, s):\n",
    "        \"\"\"Variance calculation for case-control data.\"\"\"\n",
    "        return 1 / (2 * N * f * (1 - f) * s * (1 - s))\n",
    "    if trait_type == \"quant\":\n",
    "        sd_prior = 0.15\n",
    "        V = Var_data(f, N)\n",
    "    else:\n",
    "        sd_prior = 0.2\n",
    "        V = Var_data_cc(f, N, s)\n",
    "    r = sd_prior**2 / (sd_prior**2 + V)\n",
    "    def objective(z):\n",
    "        lABF = 0.5 * (np.log(1 - r) + (r * z**2))\n",
    "        return abs(np.exp(lABF) - bf)\n",
    "    # Find the z-score that minimizes the difference between calculated BF and given BF\n",
    "    result = minimize_scalar(objective)\n",
    "    z = abs(result.x)  # Take absolute value as z-score is always positive\n",
    "    # Calculate p-value from z-score\n",
    "    p = 2 * (1 - norm.cdf(z))\n",
    "    return p"
   ]
  },
  {
   "cell_type": "code",
   "execution_count": 29,
   "metadata": {},
   "outputs": [],
   "source": [
    "df = pd.read_csv(\"ENSG00000276045.4_11.csv\")\n",
    "\n",
    "df = df[[\"rsID\", \"chrom\",\"snp_pos_1base\",\"strand\",\"BF_m6A\",\"BF_m5C\"]]\n",
    "\n",
    "m6A_qtl = pd.read_csv(qtl_dict['m6A-QTL'])\n",
    "m6A_qtl = m6A_qtl[(m6A_qtl['chrom']==\"chr12\")&(m6A_qtl['strand']==\"+\")]\n",
    "# 删除 m6A_qtl 中的重复行\n",
    "m6A_qtl.drop_duplicates(subset=['rsID', 'chrom', 'snp_pos_1base', 'strand'], keep='first', inplace=True)\n",
    "\n",
    "# 合并 DataFrame\n",
    "df_merged = pd.merge(df, m6A_qtl[['rsID', 'chrom', 'snp_pos_1base', 'strand', 'EAF']], \n",
    "                     on=['rsID', 'chrom', 'snp_pos_1base', 'strand'], how='left')\n",
    "\n",
    "# 打印合并后的 DataFrame\n",
    "df_merged['pvalue_m6A'] = df_merged.apply(lambda row: bf_to_pvalue(row['BF_m6A'], row['EAF']), axis=1)\n",
    "df_merged['pvalue_m5C'] = df_merged.apply(lambda row: bf_to_pvalue(row['BF_m5C'], row['EAF']), axis=1)\n",
    "\n",
    "# for i in range(0,len(df_merged)):\n",
    "#     df_merged.at[i,'rsID_n'] = df_merged.at[i,'rsID'] + '_' + str(i)\n",
    "\n",
    "\n",
    "\n",
    "res = df_merged[['rsID','pvalue_m6A','pvalue_m5C']]\n",
    "res.to_csv(\"paint.csv\",index=False)"
   ]
  },
  {
   "cell_type": "markdown",
   "metadata": {},
   "source": [
    "在用methy_R运行"
   ]
  },
  {
   "cell_type": "markdown",
   "metadata": {},
   "source": [
    "```r\n",
    "# 加载必要的库\n",
    "library(locuscomparer, quietly=TRUE)\n",
    "library(ggplot2)\n",
    "\n",
    "# 读取 CSV 文件\n",
    "res <- read.csv(\"paint.csv\")\n",
    "\n",
    "# 拆分 DataFrame\n",
    "in_fn1 <- res[, c(\"rsID\", \"pvalue_m6A\")]\n",
    "in_fn2 <- res[, c(\"rsID\", \"pvalue_m5C\")]\n",
    "\n",
    "# 重命名列以符合 locuscomparer 的输入要求\n",
    "colnames(in_fn1) <- c(\"rsid\", \"pval\")\n",
    "colnames(in_fn2) <- c(\"rsid\", \"pval\")\n",
    "\n",
    "# 绘制 locuscompare 图\n",
    "p <- locuscompare(\n",
    "  in_fn1 = in_fn1,\n",
    "  in_fn2 = in_fn2,\n",
    "  title1 = \"m6A\",\n",
    "  title2 = \"m5C\"\n",
    ")\n",
    "\n",
    "# 保存图像\n",
    "ggsave(\"locuscompare_m6A_m5C.png\", plot = p, device = \"png\")\n",
    "\n",
    "```"
   ]
  }
 ],
 "metadata": {
  "kernelspec": {
   "display_name": "methy1",
   "language": "python",
   "name": "python3"
  },
  "language_info": {
   "codemirror_mode": {
    "name": "ipython",
    "version": 3
   },
   "file_extension": ".py",
   "mimetype": "text/x-python",
   "name": "python",
   "nbconvert_exporter": "python",
   "pygments_lexer": "ipython3",
   "version": "3.12.8"
  }
 },
 "nbformat": 4,
 "nbformat_minor": 2
}
