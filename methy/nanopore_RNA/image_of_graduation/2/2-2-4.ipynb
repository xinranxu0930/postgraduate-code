{
 "cells": [
  {
   "cell_type": "code",
   "execution_count": 4,
   "metadata": {},
   "outputs": [],
   "source": [
    "import pandas as pd\n",
    "import os"
   ]
  },
  {
   "cell_type": "code",
   "execution_count": 6,
   "metadata": {},
   "outputs": [],
   "source": [
    "# 筛选出亚洲人的gwas数据\n",
    "def get_gwas_sumstats(gwas_type):\n",
    "    gwas_file = f\"/mnt/hpc/home/xuxinran/DirectSeq/4_gwas/8diseases/credible_set/{gwas_type}_credible_set.csv\"\n",
    "    meta_file = f\"/mnt/hpc/home/xuxinran/DirectSeq/4_gwas/8diseases/meta/{gwas_type}.csv\"\n",
    "    df = pd.read_csv(gwas_file)\n",
    "    meta_df = pd.read_csv(meta_file, usecols = ['meta_id',\"popu\"])\n",
    "    df = pd.merge(df, meta_df, on='meta_id', how='outer')\n",
    "    df = df[df['popu']=='EAS']\n",
    "    if df.empty:\n",
    "        print(f\"{gwas_type} is empty\")\n",
    "        return\n",
    "    else:\n",
    "        df.to_csv(f\"{gwas_type}_credible_set.csv\", index=False)\n",
    "\n",
    "os.chdir(\"/mnt/hpc/home/xuxinran/DirectSeq/4_gwas/8diseases/EAS_credible_set\")\n",
    "gwas_type_l = [\"Autoimmune\",\"Cardiovascular\",\"Digestive\",\"Endocrine\",\"Musculoskeletal\",\"Neoplasms\",\"Nervous\",\"Skin\"]\n",
    "for i in gwas_type_l:\n",
    "    get_gwas_sumstats(i)"
   ]
  },
  {
   "cell_type": "markdown",
   "metadata": {},
   "source": [
    "autosbatch multi-job /mnt/hpc/home/xuxinran/DirectSeq/4_gwas/run_Autoimmune.sh\n",
    "autosbatch multi-job /mnt/hpc/home/xuxinran/DirectSeq/4_gwas/run_Cardiovascular.sh\n",
    "autosbatch multi-job /mnt/hpc/home/xuxinran/DirectSeq/4_gwas/run_Digestive.sh\n",
    "autosbatch multi-job /mnt/hpc/home/xuxinran/DirectSeq/4_gwas/run_Endocrine.sh\n",
    "autosbatch multi-job /mnt/hpc/home/xuxinran/DirectSeq/4_gwas/run_Musculoskeletal.sh\n",
    "autosbatch multi-job /mnt/hpc/home/xuxinran/DirectSeq/4_gwas/run_Neoplasms.sh\n",
    "autosbatch multi-job /mnt/hpc/home/xuxinran/DirectSeq/4_gwas/run_Nervous.sh\n",
    "autosbatch multi-job /mnt/hpc/home/xuxinran/DirectSeq/4_gwas/run_Skin.sh"
   ]
  },
  {
   "cell_type": "code",
   "execution_count": null,
   "metadata": {},
   "outputs": [],
   "source": [
    "credible_set.csv --GWAS_disease\n",
    "credible_set.csv  --coloc_p1 1e-2 --coloc_p2 1e-2 --coloc_p12 1e-3 --GWAS_disease\n"
   ]
  }
 ],
 "metadata": {
  "kernelspec": {
   "display_name": "methy1",
   "language": "python",
   "name": "python3"
  },
  "language_info": {
   "codemirror_mode": {
    "name": "ipython",
    "version": 3
   },
   "file_extension": ".py",
   "mimetype": "text/x-python",
   "name": "python",
   "nbconvert_exporter": "python",
   "pygments_lexer": "ipython3",
   "version": "3.12.8"
  }
 },
 "nbformat": 4,
 "nbformat_minor": 2
}
